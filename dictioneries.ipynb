{
 "cells": [
  {
   "cell_type": "code",
   "execution_count": 43,
   "id": "a51fcf57",
   "metadata": {},
   "outputs": [],
   "source": [
    "import numpy as np"
   ]
  },
  {
   "cell_type": "markdown",
   "id": "b16c9746",
   "metadata": {},
   "source": [
    "# DECLARING LISTS"
   ]
  },
  {
   "cell_type": "code",
   "execution_count": 44,
   "id": "a82d3e6c",
   "metadata": {},
   "outputs": [],
   "source": [
    "subjects=['analytical dynamics','real analysis','stats'] #lists"
   ]
  },
  {
   "cell_type": "code",
   "execution_count": 45,
   "id": "c0eab7b5",
   "metadata": {},
   "outputs": [
    {
     "data": {
      "text/plain": [
       "['analytical dynamics', 'real analysis', 'stats']"
      ]
     },
     "execution_count": 45,
     "metadata": {},
     "output_type": "execute_result"
    }
   ],
   "source": [
    "subjects # print subject"
   ]
  },
  {
   "cell_type": "code",
   "execution_count": 46,
   "id": "12e915f9",
   "metadata": {},
   "outputs": [
    {
     "data": {
      "text/plain": [
       "'analytical dynamics'"
      ]
     },
     "execution_count": 46,
     "metadata": {},
     "output_type": "execute_result"
    }
   ],
   "source": [
    "subjects[0] # print subject at 0 "
   ]
  },
  {
   "cell_type": "code",
   "execution_count": 47,
   "id": "fb81d13d",
   "metadata": {},
   "outputs": [],
   "source": [
    "subjects.append('numerical computation') # adding in list"
   ]
  },
  {
   "cell_type": "code",
   "execution_count": 48,
   "id": "dde4d463",
   "metadata": {},
   "outputs": [
    {
     "data": {
      "text/plain": [
       "['analytical dynamics', 'real analysis', 'stats', 'numerical computation']"
      ]
     },
     "execution_count": 48,
     "metadata": {},
     "output_type": "execute_result"
    }
   ],
   "source": [
    "subjects"
   ]
  },
  {
   "cell_type": "code",
   "execution_count": 49,
   "id": "30314d6f",
   "metadata": {},
   "outputs": [],
   "source": [
    "credithours=[3,3,3,3]"
   ]
  },
  {
   "cell_type": "code",
   "execution_count": 50,
   "id": "40a010c5",
   "metadata": {},
   "outputs": [],
   "source": [
    "credithours.append([3,1])"
   ]
  },
  {
   "cell_type": "code",
   "execution_count": 51,
   "id": "d22b80e9",
   "metadata": {},
   "outputs": [
    {
     "data": {
      "text/plain": [
       "[3, 3, 3, 3, [3, 1]]"
      ]
     },
     "execution_count": 51,
     "metadata": {},
     "output_type": "execute_result"
    }
   ],
   "source": [
    "credithours "
   ]
  },
  {
   "cell_type": "markdown",
   "id": "8dd10bf9",
   "metadata": {},
   "source": [
    "# DICTIONERIES"
   ]
  },
  {
   "cell_type": "code",
   "execution_count": 52,
   "id": "88c0c19c",
   "metadata": {},
   "outputs": [],
   "source": [
    "d={'analytical dynamics':'3 credit hours','real analysis':'3 credit hours'}"
   ]
  },
  {
   "cell_type": "code",
   "execution_count": 53,
   "id": "fd631d76",
   "metadata": {},
   "outputs": [
    {
     "data": {
      "text/plain": [
       "{'analytical dynamics': '3 credit hours', 'real analysis': '3 credit hours'}"
      ]
     },
     "execution_count": 53,
     "metadata": {},
     "output_type": "execute_result"
    }
   ],
   "source": [
    "d"
   ]
  },
  {
   "cell_type": "code",
   "execution_count": 42,
   "id": "e2b5c1ab",
   "metadata": {},
   "outputs": [
    {
     "data": {
      "text/plain": [
       "'3 credit hours'"
      ]
     },
     "execution_count": 42,
     "metadata": {},
     "output_type": "execute_result"
    }
   ],
   "source": [
    "d['analytical dynamics']"
   ]
  },
  {
   "cell_type": "code",
   "execution_count": null,
   "id": "f39cae2b",
   "metadata": {},
   "outputs": [],
   "source": []
  }
 ],
 "metadata": {
  "kernelspec": {
   "display_name": "Python 3 (ipykernel)",
   "language": "python",
   "name": "python3"
  },
  "language_info": {
   "codemirror_mode": {
    "name": "ipython",
    "version": 3
   },
   "file_extension": ".py",
   "mimetype": "text/x-python",
   "name": "python",
   "nbconvert_exporter": "python",
   "pygments_lexer": "ipython3",
   "version": "3.9.7"
  }
 },
 "nbformat": 4,
 "nbformat_minor": 5
}
